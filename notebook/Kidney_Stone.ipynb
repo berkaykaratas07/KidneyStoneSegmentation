{
 "cells": [
  {
   "cell_type": "code",
   "outputs": [],
   "source": [
    "# Import necessary libraries\n",
    "import sys\n",
    "import os\n",
    "import torch\n",
    "\n",
    "project_root = os.path.abspath(os.path.join(os.getcwd(), \"..\"))\n",
    "sys.path.append(os.path.join(project_root, \"src\"))\n",
    "\n",
    "from src.segmentation import load_sam_model, show_anns\n",
    "from src.utils import process_images"
   ],
   "metadata": {
    "collapsed": false
   },
   "id": "33b4d021d326029d",
   "execution_count": null
  },
  {
   "cell_type": "code",
   "outputs": [],
   "source": [
    "# Step 1: Set up parameters\n",
    "data_dir = \"data\"\n",
    "sam_checkpoint = \"C:\\\\Users\\\\Berkay\\\\PycharmProjects\\\\KidneyStone01\\\\sam_vit_h_4b8939.pth\"\n",
    "model_type = \"vit_h\"\n",
    "device = \"cuda\" if torch.cuda.is_available() else \"cpu\""
   ],
   "metadata": {
    "collapsed": false
   },
   "id": "4dc7783f8b16cdb4",
   "execution_count": null
  },
  {
   "cell_type": "code",
   "outputs": [],
   "source": [
    "# Step 2: Load SAM model and initialize predictor\n",
    "predictor = load_sam_model(model_type, sam_checkpoint, device)"
   ],
   "metadata": {
    "collapsed": false
   },
   "id": "78e5ce6eb2ec2532",
   "execution_count": null
  },
  {
   "cell_type": "code",
   "outputs": [],
   "source": [
    "# Step 3: Process a sample dataset (e.g., train set) and visualize\n",
    "image_dir = os.path.join(project_root, \"data\", \"train\", \"images\")\n",
    "label_dir = os.path.join(project_root, \"data\", \"train\", \"labels\")"
   ],
   "metadata": {
    "collapsed": false
   },
   "id": "16835b44149b3e30",
   "execution_count": null
  },
  {
   "cell_type": "code",
   "outputs": [],
   "source": [
    "# Limit to a few images for demonstration purposes in the notebook\n",
    "if os.path.exists(image_dir) and os.path.exists(label_dir):\n",
    "    process_images(predictor, image_dir, label_dir, device, limit=5)\n",
    "else:\n",
    "    print(f\"'{image_dir}' or '{label_dir}' not found.\")"
   ],
   "metadata": {
    "collapsed": false
   },
   "id": "e5061e939026f465",
   "execution_count": null
  }
 ],
 "metadata": {
  "kernelspec": {
   "display_name": "Python 3",
   "language": "python",
   "name": "python3"
  },
  "language_info": {
   "codemirror_mode": {
    "name": "ipython",
    "version": 2
   },
   "file_extension": ".py",
   "mimetype": "text/x-python",
   "name": "python",
   "nbconvert_exporter": "python",
   "pygments_lexer": "ipython2",
   "version": "2.7.6"
  }
 },
 "nbformat": 4,
 "nbformat_minor": 5
}
